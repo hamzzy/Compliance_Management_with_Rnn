{
 "cells": [
  {
   "cell_type": "code",
   "execution_count": 1,
   "metadata": {},
   "outputs": [
    {
     "data": {
      "text/html": [
       "<div>\n",
       "<style scoped>\n",
       "    .dataframe tbody tr th:only-of-type {\n",
       "        vertical-align: middle;\n",
       "    }\n",
       "\n",
       "    .dataframe tbody tr th {\n",
       "        vertical-align: top;\n",
       "    }\n",
       "\n",
       "    .dataframe thead th {\n",
       "        text-align: right;\n",
       "    }\n",
       "</style>\n",
       "<table border=\"1\" class=\"dataframe\">\n",
       "  <thead>\n",
       "    <tr style=\"text-align: right;\">\n",
       "      <th></th>\n",
       "      <th>rule</th>\n",
       "      <th>label</th>\n",
       "    </tr>\n",
       "  </thead>\n",
       "  <tbody>\n",
       "    <tr>\n",
       "      <th>0</th>\n",
       "      <td>Identify customer and verify identities using ...</td>\n",
       "      <td>control_flow</td>\n",
       "    </tr>\n",
       "    <tr>\n",
       "      <th>1</th>\n",
       "      <td>ble, independently sourced documents, data and</td>\n",
       "      <td>control_flow</td>\n",
       "    </tr>\n",
       "    <tr>\n",
       "      <th>2</th>\n",
       "      <td>information.</td>\n",
       "      <td>control_flow</td>\n",
       "    </tr>\n",
       "    <tr>\n",
       "      <th>3</th>\n",
       "      <td>Verify Identity of the customer, beneficial ow...</td>\n",
       "      <td>control_flow</td>\n",
       "    </tr>\n",
       "    <tr>\n",
       "      <th>4</th>\n",
       "      <td>and occasional customers before establishing</td>\n",
       "      <td>control_flow</td>\n",
       "    </tr>\n",
       "  </tbody>\n",
       "</table>\n",
       "</div>"
      ],
      "text/plain": [
       "                                                rule         label\n",
       "0  Identify customer and verify identities using ...  control_flow\n",
       "1    ble, independently sourced documents, data and   control_flow\n",
       "2                                       information.  control_flow\n",
       "3  Verify Identity of the customer, beneficial ow...  control_flow\n",
       "4      and occasional customers before establishing   control_flow"
      ]
     },
     "execution_count": 1,
     "metadata": {},
     "output_type": "execute_result"
    }
   ],
   "source": [
    "import pandas as pd\n",
    "import numpy as np\n",
    "filepath_dict = {'control_flow':   'Bank-Controlflow.txt',\n",
    "                 'data_flow': 'Bank-Dataflow.txt',\n",
    "                'temporal':'Bank-Temporal.txt'}\n",
    "\n",
    "df_list = []\n",
    "for source, filepath in filepath_dict.items():\n",
    "    df = pd.read_csv(filepath, names=['rule', 'label'], sep='\\t')\n",
    "    df['label'] = source  # Add another column filled with the source name\n",
    "    df_list.append(df)\n",
    "\n",
    "df = pd.concat(df_list)\n",
    "df.head()"
   ]
  },
  {
   "cell_type": "code",
   "execution_count": 16,
   "metadata": {},
   "outputs": [
    {
     "name": "stdout",
     "output_type": "stream",
     "text": [
      "['Identify customer and verify identities using relia-'\n",
      " 'ble, independently sourced documents, data and ' 'information.'\n",
      " 'Verify Identity of the customer, beneficial owner '\n",
      " 'and occasional customers before establishing ' 'business relationship'\n",
      " 'Financial Institution must be satisfied that a prosp-'\n",
      " 'ective customer is who he/she claims to be'\n",
      " 'Financial Institution are required to obtain sufficie-'\n",
      " 'nt information on the nature of the business that '\n",
      " 'their customer intend to undertake'\n",
      " 'If existing customer opens new account, check '\n",
      " 'previous information and update with new inform-' 'ation'\n",
      " 'Verification must include names used, date of birth'\n",
      " 'and residential address at which the customer can ' 'be located'\n",
      " 'Attach intending loan customer to a marketer'\n",
      " 'Complete documentation must be verified before '\n",
      " 'Account opening form is issued to customer'\n",
      " 'Cheque can only be issued to a third party and must'\n",
      " 'be signed at the back by the account owner'\n",
      " 'Verify cheque transaction of customer before carrying out'\n",
      " 'transaction ' 'Description'\n",
      " 'Intending customers details must be sent to the ' 'Audit'\n",
      " 'Supplied Customer data must be seen by the Cust-'\n",
      " 'omer care officer before opening account'\n",
      " 'All transaction details must be recorded'\n",
      " 'Send all customers details to CBN'\n",
      " \"Third party is not allowed to access customer's acc-\" 'ount details'\n",
      " \"Verify Customer's data and signature before perm-\" 'itting withdrawal'\n",
      " \"Customer's full name, address and date of birth \"\n",
      " 'must be verified before account opening process is' 'done'\n",
      " 'Cheque recipient data must be checked by withd-'\n",
      " 'rawal officer before cashing the cheque'\n",
      " 'The information of the guarantors should be attac-'\n",
      " 'hed to the loan request form and sent to the credit' 'unit officer'\n",
      " 'Microloan processing of less than or equal to #50000'\n",
      " 'should not exceed 24 hours'\n",
      " 'Loan request beyond #100,000 could take about 1month'\n",
      " 'Application of granting overdraft to customer is ' 'done in 24hours'\n",
      " 'Input confirmation of deposit should be done in less' 'than 5hours'\n",
      " 'Cash withdrawal or denial must not exceed 2 hour'\n",
      " 'The offer in the signed loan contract is valid for'\n",
      " '7 working days and afterwards closed'\n",
      " 'For coperate account, all signatories must be '\n",
      " 'identified before transaction'\n",
      " 'If client does not supply the required information '\n",
      " 'as stipulated, the financial institution is required to'\n",
      " 'discontinue any activity.'\n",
      " 'Do not pay issue cash withdrawal on savings ' 'account to a third party'\n",
      " 'If suspicious activity is discovered, make suspicious'\n",
      " 'activity report to the NFIU based on the information'\n",
      " 'on its possession before the funds involved are '\n",
      " 'returned to the potential client'\n",
      " 'If existing customer closes an account and opens'\n",
      " 'another or enters new agreement, confirm details'\n",
      " 'If supporting evidence could not be copied at the '\n",
      " 'time it was presented, Record reference number'\n",
      " 'and other relevant details'\n",
      " 'If account opening involves students or other '\n",
      " 'young people, the normal procedures set out '\n",
      " 'should be followed.Verification could be obtained'\n",
      " \"via parent's home address or seeking evidence of\"\n",
      " 'tenancy agreement of accommodation'\n",
      " 'If accounts is dormant and bonafide owner has not '\n",
      " 'requested for activation, disallow transaction '\n",
      " 'Tenure of Microfinance loan bank is usually 180 days'\n",
      " 'The maximum principal amount to be required as '\n",
      " 'loan shall not exceed #500, 000 or 1% of the '\n",
      " 'shareholder fund unimpaired by losses'\n",
      " 'Any unsecured advance or loan or credit facilities of'\n",
      " 'an aggregate amount to an individual in excess of'\n",
      " '#50,000 is not permitted '\n",
      " 'There must be a group guarantess of an individual '\n",
      " 'acceptable to the MFB shall qualify as collateral'\n",
      " 'If loan request exceed #50,000, send request form' 'to Audit officer'\n",
      " \"Check customer's account balance before \" 'withdrawal transaction'\n",
      " 'A customer must not be given beyond 80% of '\n",
      " 'monthly income to allow service a loan'\n",
      " 'A minimum of two guarantors must stand in by '\n",
      " 'signing a form and providing ID before loan is ' 'granted'\n",
      " 'Before loan is granted, the individual must be a '\n",
      " 'customer or intending' 'Any loan request beyond #100,000 must pass '\n",
      " 'through the Board of Directors for approval'\n",
      " 'Until approval comes from the credit unit, do not ' 'disburse loan '\n",
      " 'Bank shall not approve and/or provide any exposure '\n",
      " '(Including renewal enhancement and '\n",
      " 'rescheduling/restructuring) until and unless the loan'\n",
      " 'Application Form (LAF) designed by bank is ' 'completed']\n"
     ]
    }
   ],
   "source": [
    "x=df['rule'].values\n",
    "print(x)"
   ]
  },
  {
   "cell_type": "code",
   "execution_count": 17,
   "metadata": {},
   "outputs": [
    {
     "name": "stdout",
     "output_type": "stream",
     "text": [
      "['control_flow' 'data_flow' 'temporal']\n"
     ]
    }
   ],
   "source": [
    "from sklearn.model_selection import train_test_split\n",
    "from sklearn.feature_extraction.text import TfidfTransformer\n",
    "from sklearn.feature_extraction.text import CountVectorizer\n",
    "from sklearn.preprocessing import LabelEncoder\n",
    "\n",
    "labels = df['label']\n",
    "text = df['rule']\n",
    "\n",
    "X_train, X_test, y_train, y_test = train_test_split(text, labels, random_state=0, test_size=0.1)\n",
    "\n",
    "count_vect = CountVectorizer()\n",
    "X_train_counts = count_vect.fit_transform(X_train)\n",
    "tf_transformer = TfidfTransformer().fit(X_train_counts)\n",
    "X_train_transformed = tf_transformer.transform(X_train_counts)\n",
    "\n",
    "X_test_counts = count_vect.transform(X_test)\n",
    "X_test_transformed = tf_transformer.transform(X_test_counts)\n",
    "\n",
    "labels = LabelEncoder()\n",
    "y_train_labels_fit = labels.fit(y_train)\n",
    "y_train_lables_trf = labels.transform(y_train)\n",
    "\n",
    "print(labels.classes_)"
   ]
  },
  {
   "cell_type": "code",
   "execution_count": null,
   "metadata": {},
   "outputs": [],
   "source": [
    "\n"
   ]
  },
  {
   "cell_type": "code",
   "execution_count": null,
   "metadata": {},
   "outputs": [],
   "source": []
  },
  {
   "cell_type": "code",
   "execution_count": 42,
   "metadata": {},
   "outputs": [
    {
     "name": "stdout",
     "output_type": "stream",
     "text": [
      "acuracy: 0.7872340425531915\n",
      "Predicted probabilities of demo input string are\n",
      "Control flow probability: [0.25911212]\n",
      "Data flow probability: [0.17044257]\n",
      "Temporal flow probability: [0.57044531]\n"
     ]
    }
   ],
   "source": [
    "from sklearn.linear_model import LogisticRegression\n",
    "from sklearn.naive_bayes import MultinomialNB\n",
    "\n",
    "classifier = MultinomialNB()\n",
    "classifier.fit(X_train_transformed,y_train_lables_trf)\n",
    "score = classifier.score(X_train_transformed,y_train_lables_trf)\n",
    "classifier.predict_proba(X_test_transformed)\n",
    "\n",
    "print(\"acuracy:\",score)\n",
    "\n",
    "print('Predicted probabilities of demo input string are')\n",
    "probab=classifier.predict_proba(p_tfidf)\n",
    "print(\"Control flow probability:\",probab[:,0])\n",
    "print(\"Data flow probability:\",probab[:,1])\n",
    "print(\"Temporal flow probability:\",probab[:,2])"
   ]
  },
  {
   "cell_type": "code",
   "execution_count": 44,
   "metadata": {},
   "outputs": [
    {
     "name": "stdout",
     "output_type": "stream",
     "text": [
      "the document compliance is for control flow  is low\n"
     ]
    }
   ],
   "source": [
    "\n",
    "if probab[:,0] <= 0.5:\n",
    "    print('the document compliance is for control flow  is low')\n",
    "elif probab[:,1]<= 0.5: \n",
    "    print('the document compliance is dataflow rule is  low')\n",
    "elif probab[:,2]<= 0.5:\n",
    "    print(\"the document compliance temporal is low\")"
   ]
  },
  {
   "cell_type": "code",
   "execution_count": null,
   "metadata": {},
   "outputs": [],
   "source": []
  }
 ],
 "metadata": {
  "kernelspec": {
   "display_name": "Python 3",
   "language": "python",
   "name": "python3"
  },
  "language_info": {
   "codemirror_mode": {
    "name": "ipython",
    "version": 3
   },
   "file_extension": ".py",
   "mimetype": "text/x-python",
   "name": "python",
   "nbconvert_exporter": "python",
   "pygments_lexer": "ipython3",
   "version": "3.6.6"
  }
 },
 "nbformat": 4,
 "nbformat_minor": 2
}
